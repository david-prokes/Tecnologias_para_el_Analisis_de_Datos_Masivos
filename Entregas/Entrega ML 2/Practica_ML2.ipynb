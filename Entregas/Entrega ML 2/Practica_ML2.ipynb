{
 "cells": [
  {
   "cell_type": "markdown",
   "metadata": {},
   "source": [
    "# Práctica de Machine Learning nº2"
   ]
  },
  {
   "cell_type": "markdown",
   "metadata": {},
   "source": [
    "El objetivo de este proyecto es evaluar vuestra capacidad para llevar a cabo un proyecto de *Machine Learning*. \n",
    "\n",
    "En el portal de datos abiertos de la CAIB, hemos seleccionado un *dataset* que ofrezca flexibilidad a la hora de aplicar diferentes algoritmos y con un tiempo de dedicación razonable.  \n",
    "\n",
    "Trabajaremos con los datos recopilados por una estación de control de calidad del aire en el Hospital Joan March de Mallorca: [datos](https://intranet.caib.es/opendatacataleg/dataset/mesuraments-estacio-control-qualitat-aire-illes-balears-estacio-hospital-joan-march-mallorca/resource/dcef6fdf-3836-4a98-92f9-e8efc2839f9c).  \n",
    "\n",
    "La información disponible en la web sobre su contenido es la siguiente:  \n",
    ">>> Las concentraciones de los contaminantes SO₂, NO, NO₂, O₃, PM10, PM2.5, benceno, tolueno y xileno aparecen en microgramos por metro cúbico (µg/m³).  \n",
    ">>> Las unidades del contaminante CO son miligramos por metro cúbico (mg/m³).  \n",
    ">>> Para cada contaminante se incluye un \"flag\" o indicador de estado, donde V significa que el dato es válido.  \n",
    "\n",
    "Dado que encontramos más columnas y no somos expertos en medio ambiente, hemos pedido a ChatGPT una descripción adicional:  \n",
    ">>>  \n",
    "- **DATA_HI, PERIODE_HI**: información temporal de los datos.  \n",
    "- **SO2_HI, FL_SO2**: concentración de dióxido de azufre (SO₂) en µg/m³ y su indicador de estado.  \n",
    "- **NO_HI, FL_NO**: concentración de monóxido de nitrógeno (NO) en µg/m³ y su indicador de estado.  \n",
    "- **NO2_HI, FL_NO2**: concentración de dióxido de nitrógeno (NO₂) en µg/m³ y su indicador de estado.  \n",
    "- **NOX_HI, FL_NOX**: concentración de NOx (óxidos de nitrógeno) en µg/m³ y su indicador de estado.  \n",
    "- **O3_HI, FL_O3**: concentración de ozono (O₃) en µg/m³ y su indicador de estado.  \n",
    "- **PM2,5_HI, FL_PM2,5**: concentración de partículas finas PM2,5 en µg/m³ y su indicador de estado.  \n",
    "- **PM10_HI, FL_PM10**: concentración de partículas PM10 en µg/m³ y su indicador de estado.  \n",
    "- **DD_HI, FL_DD**: dirección del viento (°) y su indicador de estado.  \n",
    "- **VV_HI, FL_VV**: velocidad del viento (m/s) y su indicador de estado.  \n",
    "- **TMP_HI, FL_TMP**: temperatura del aire (°C) y su indicador de estado.  \n",
    "- **HR_HI, FL_HR**: humedad relativa (%) y su indicador de estado.  \n",
    "- **PRB_HI, FL_PRB**: presión barométrica (hPa) y su indicador de estado.  \n",
    "- **LL_HI, FL_LL**: nivel de lluvia (mm) y su indicador de estado.  \n",
    "- **RS_HI, FL_RS**: radiación solar (W/m²) y su indicador de estado.  \n",
    "\n",
    "\n",
    "El [informe de calidad del aire de las Islas Baleares 2021](https://www.caib.es/sites/atmosfera/f/409181) ofrece una buena explicación de las diferentes estaciones de captación, así como los umbrales de evaluación y los recomendados por la OMS para los contaminantes (página 9).\n"
   ]
  },
  {
   "cell_type": "markdown",
   "metadata": {},
   "source": [
    "## Objetivo\n",
    "\n",
    "En este caso, debéis de diseñar una variable objetivo basado en la calidad del aire. Por ejemplo, en la página 10 del informe se clasifica en excelente, bueno o regular la calidad si se superan ciertos umbrales.\n",
    "\n",
    "Una vez definida dicha variable debéis de aplicar un modelo de classificación que sea adecuado para los datos. Dicho modelo tiene como objetivo predecir futuras muestras dentro de esa clasificiación. Naturalmente, *ya conocemos los criterios para etiquetar la calidad del aire*, la cuestión radica en si el modelo que diseñais es tan bueno como la aplicación de estos criterios.\n",
    "\n",
    "Este enfoque puede resultar de interés si añadimos variables exógenas (congestión de tráfico, emisiones de industria, dias laborables/festividades, llegada de cruceros, etc.).\n",
    "\n",
    "## Criterios de valoración\n",
    "- La preparación y selección de datos\n",
    "- La elección del algoritmo \n",
    "- El estudio de métricas\n",
    "- Y la comparativa con otros algoritmos\n",
    "- El apoyo en visualizaciones para la explicación de los resultados\n",
    "- La coherencia del proceso\n",
    "\n",
    "Entrega:\n",
    "- Solo está permitida la entrega de **un único** documento con formato notebook de jupyter (.ipynb) mediante su subida a la tarea en AulaDigital. Se espera un informe combinado de texto y código documentado.\n",
    "  - Especificar en la primera celda del documento: nombre y apellidos.\n",
    "\n",
    "  - Entregar el notebook con los resultados de su ejecución. \n"
   ]
  },
  {
   "cell_type": "code",
   "execution_count": null,
   "metadata": {},
   "outputs": [],
   "source": []
  },
  {
   "cell_type": "code",
   "execution_count": null,
   "metadata": {},
   "outputs": [],
   "source": []
  }
 ],
 "metadata": {
  "kernelspec": {
   "display_name": "my3110",
   "language": "python",
   "name": "python3"
  },
  "language_info": {
   "name": "python",
   "version": "3.11.0"
  }
 },
 "nbformat": 4,
 "nbformat_minor": 2
}
