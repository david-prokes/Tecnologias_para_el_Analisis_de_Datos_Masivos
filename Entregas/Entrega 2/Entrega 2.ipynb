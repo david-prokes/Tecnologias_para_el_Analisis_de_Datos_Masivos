{
 "cells": [
  {
   "cell_type": "markdown",
   "id": "718c33d4-64a9-4c5f-9e1b-f7e6a95c770b",
   "metadata": {},
   "source": [
    "# Entrega 2\n",
    "## David Prokes\n",
    "### 20/10/2024\n",
    "[Enlace de repositorio](https://github.com/david-prokes/Tecnologias_para_el_Analisis_de_Datos_Masivos)"
   ]
  },
  {
   "cell_type": "markdown",
   "id": "a41127eb-653e-484a-95cd-03a67259af31",
   "metadata": {},
   "source": [
    "### Ejercicios rápidos\n",
    "1. Realizar una función que recibe 3 números (d, m, a) que representan una fecha (día,\n",
    "mes y año). El programa debe devolver el día (la fecha) siguiente a la recibida por\n",
    "parámetro. Se debe tener en cuenta los días de cada mes y los años bisiestos."
   ]
  },
  {
   "cell_type": "code",
   "execution_count": 9,
   "id": "208acaea-768b-4823-a633-3e55aba9b814",
   "metadata": {},
   "outputs": [],
   "source": [
    "def nextday(d,m,a):\n",
    "\n",
    "    # Creamos la condición para definir el número de días que tiene febrero según si es año bisiesto o no:\n",
    "    if (a % 4 == 0 and a % 100 != 0) or (a % 400 == 0):\n",
    "        febrero = 29\n",
    "    else:\n",
    "        febrero = 28\n",
    "    \n",
    "    # Creamos la lista donde se muestra para cada mes su total de días, cogiendo además el valor de febrero anterior:\n",
    "    dias_por_mes = [31, febrero, 31, 30, 31, 30, 31, 31, 30, 31, 30, 31]\n",
    "    \n",
    "    if d == dias_por_mes[m-1]: # Para el último día del mes, se devolverá el día 1 del siguiente mes.\n",
    "        d = 1\n",
    "        if m == 12: # Teniendo en cuenta que si es el último mes, se devolverá el mes de enero del año siguiente.\n",
    "            m = 1\n",
    "            a += 1\n",
    "        else:\n",
    "            m += 1\n",
    "    else: # Si no se cumple ninguna condición anterior, simplemente se suma un día.\n",
    "        d += 1\n",
    "    \n",
    "    return d, m, a # Devolvemos los mismos parámetros redefinidos."
   ]
  },
  {
   "cell_type": "markdown",
   "id": "868b7159-940a-45a3-847a-c3db3d987920",
   "metadata": {},
   "source": [
    "2. Dada la siguiente lista , construye un programa que muestre por pantalla cuantas veces aparece cada una\n",
    "de ellas."
   ]
  },
  {
   "cell_type": "code",
   "execution_count": 7,
   "id": "f4d00538-f83e-4f98-aab6-7245bb48c30e",
   "metadata": {},
   "outputs": [
    {
     "name": "stdout",
     "output_type": "stream",
     "text": [
      "Perro: 1\n",
      "Gato: 1\n",
      "Casa: 1\n",
      "Coche: 1\n",
      "Árbol: 1\n",
      "Sol: 1\n",
      "Luna: 1\n",
      "Mar: 1\n",
      "Montaña: 1\n",
      "Río: 1\n",
      "Playa: 1\n",
      "Libro: 1\n",
      "Computadora: 1\n",
      "Teléfono: 1\n",
      "Amigo: 1\n",
      "Familia: 1\n",
      "Trabajo: 1\n",
      "Comida: 1\n",
      "Película: 1\n",
      "Música: 1\n",
      "Viaje: 1\n",
      "Deporte: 1\n",
      "Juego: 1\n",
      "Amor: 1\n",
      "Odio: 1\n",
      "Felicidad: 1\n",
      "Tristeza: 1\n",
      "Alegría: 1\n",
      "Dolor: 1\n",
      "Sueño: 1\n",
      "Noche: 1\n",
      "Día: 1\n",
      "Agua: 1\n",
      "Fuego: 1\n",
      "Aire: 1\n",
      "Tierra: 1\n",
      "Cielo: 1\n",
      "Estrella: 1\n",
      "Flor: 1\n",
      "Fruta: 1\n",
      "Verdura: 1\n",
      "Chocolate: 1\n",
      "Café: 1\n",
      "Té: 1\n",
      "Vino: 1\n",
      "Cerveza: 1\n",
      "Dinero: 1\n",
      "Tiempo: 1\n",
      "Reloj: 2\n"
     ]
    }
   ],
   "source": [
    "palabras_espanol = [\"Perro\", \"Gato\", \"Casa\", \"Coche\", \"Árbol\", \"Sol\", \"Luna\", \"Mar\", \"Montaña\", \"Río\", \"Playa\", \"Libro\", \"Computadora\", \"Teléfono\", \n",
    "                    \"Amigo\", \"Familia\", \"Trabajo\", \"Comida\", \"Película\", \"Música\", \"Viaje\", \"Deporte\", \"Juego\", \"Amor\", \"Odio\", \"Felicidad\", \n",
    "                    \"Tristeza\", \"Alegría\", \"Dolor\", \"Sueño\", \"Noche\", \"Día\", \"Agua\", \"Fuego\", \"Aire\", \"Tierra\", \"Cielo\", \"Estrella\", \"Flor\", \n",
    "                    \"Fruta\", \"Verdura\", \"Chocolate\", \"Café\", \"Té\", \"Vino\", \"Cerveza\", \"Dinero\", \"Tiempo\", \"Reloj\", \"Reloj\"]\n",
    "\n",
    "\n",
    "# Para ello, podemos crear un diccionario en el que iremos almacenando el recuento a cada palabra definida como key.\n",
    "recuento = {}\n",
    "\n",
    "for word in palabras_espanol:\n",
    "    if word in recuento:\n",
    "        recuento[word] += 1\n",
    "    else:\n",
    "        recuento[word] = 1\n",
    "\n",
    "# Finalmente, aplicamos un bucle definido para mostrar los resultados de manera más clara:\n",
    "for k, v in recuento.items():\n",
    "    print(str(k) + \": \" + str(v))"
   ]
  },
  {
   "cell_type": "markdown",
   "id": "dfd1f535-67df-4ad1-b6e6-a8e0d9ff25ed",
   "metadata": {},
   "source": [
    "3. Dado el siguiente diccionario con información del precio de diferentes productos por día, responde a las siguientes preguntas:\n",
    "• ¿Cuál es el precio máximo de cada producto?\n",
    "• ¿Cuál es el producto más caro?\n",
    "• ¿Qué día son más caras las naranjas?"
   ]
  },
  {
   "cell_type": "code",
   "execution_count": 3,
   "id": "6b4b2871-a01a-4ba0-8dce-66b4f0139687",
   "metadata": {},
   "outputs": [
    {
     "name": "stdout",
     "output_type": "stream",
     "text": [
      "Precio máximo de la cebolla: 0.39 euro/kg\n",
      "Precio máximo de la patata: 0.43 euro/kg\n",
      "Precio máximo de la naranja: 0.56 euro/kg\n",
      "El producto más caro es la naranja con un precio máximo de 0.56 euro/kg\n",
      "Las naranjas tomaron su precio máximo en el día 2\n"
     ]
    }
   ],
   "source": [
    "precio_origen = {\n",
    "\"cebolla\": [30.3, 20.3, 25.9, 39.0], # céntimos/kg\n",
    "\"patata\":[0.33, 0.43, 0.34, 0.12], # euro/kg\n",
    "\"naranja\":[0.45, 0.56, 0.38, 0.43] # euro/kg\n",
    "}\n",
    "\n",
    "# Conversión - Primero convertimos los precios de la cebolla de céntimos a euros mediante un bucle definido:\n",
    "for i in range(len(precio_origen[\"cebolla\"])):\n",
    "    precio_origen[\"cebolla\"][i] /= 100\n",
    "\n",
    "# Punto 1 - Ahora ya podemos aplicar mediante un bucle definido la función max() a cada value del diccionario:\n",
    "precios_maximos = []\n",
    "productos = []\n",
    "for k, v in precio_origen.items():\n",
    "    maximo = max(precio_origen[k])\n",
    "    precios_maximos.append(maximo)\n",
    "    productos.append(k)\n",
    "    print(\"Precio máximo de la \" + str(k) + \": \" + str(maximo) + \" euro/kg\")\n",
    "\n",
    "# Punto 2 - Para responder el segundo punto se ha creado una lista con los precios_maximos de cada producto en el anterior bucle.\n",
    "maxind = precios_maximos.index(max(precios_maximos))\n",
    "print(\"El producto más caro es la \" + productos[maxind] + \" con un precio máximo de \" + str(max(precios_maximos)) + \" euro/kg\")\n",
    "    # Para determinar el producto más caro se emplea el precio máximo, aunque también se podría utilizar el promedio mediante un bucle definido.\n",
    "\n",
    "# Punto 3 - Finalmente, para el tercer punto simplemente queremos encontrar el índice en que se produjo el máximo en las naranjas:\n",
    "naranjas = precio_origen[\"naranja\"]\n",
    "maxind_naranjas = naranjas.index(max(naranjas)) + 1 # Suponemos que no existe un día 0. Sino que los datos comprenden del día 1 al día 5.\n",
    "print(\"Las naranjas tomaron su precio máximo en el día \" + str(maxind_naranjas))"
   ]
  },
  {
   "cell_type": "markdown",
   "id": "4866cec1-4776-4972-b35d-17ab077e8bea",
   "metadata": {},
   "source": [
    "### Problema\n",
    "Una empresa tiene un inventario de productos con diferentes categorías, y cada producto tiene un precio y una cantidad en stock. El objetivo es gestionar el inventario de forma eficiente. Instrucciones:\n",
    "1. Crea un diccionario donde la clave sea el nombre de una categoría de producto y el valor sea una lista de tuplas. Cada tupla contendrá el nombre del producto, el precio y la cantidad en stock."
   ]
  },
  {
   "cell_type": "code",
   "execution_count": 106,
   "id": "04af4a18-1701-4646-bb09-ec737739877f",
   "metadata": {},
   "outputs": [],
   "source": [
    "# Punto 1 - A continuación, a modo de ejemplo creo un inventario basado en PcComponentes:\n",
    "inventario = {\n",
    "    \"Componentes\": [\n",
    "        (\"Placa base ASUS\", 150, 100),\n",
    "        (\"Procesador Intel i9\", 550, 50),\n",
    "        (\"Tarjeta gráfica Nvidia RTX 3080\", 1200, 30),\n",
    "        (\"Memoria RAM Corsair 16GB\", 70, 200),\n",
    "        (\"Disco duro SSD 1TB\", 120, 150)\n",
    "    ],\n",
    "    \"Periféricos\": [\n",
    "        (\"Teclado mecánico RGB\", 80, 120),\n",
    "        (\"Ratón gaming Logitech\", 50, 200),\n",
    "        (\"Auriculares HyperX\", 90, 180),\n",
    "        (\"Monitor 24 pulgadas\", 200, 80),\n",
    "        (\"Webcam 1080p\", 50, 150)\n",
    "    ],\n",
    "    \"Accesorios\": [\n",
    "        (\"Cable HDMI 2.0\", 15, 300),\n",
    "        (\"Fuente de alimentación 750W\", 100, 100),\n",
    "        (\"Disco duro externo 2TB\", 150, 70),\n",
    "        (\"Cable USB-C a USB-A\", 10, 500)\n",
    "    ],\n",
    "    \"Gaming\": [\n",
    "        (\"Consola PlayStation 5\", 499, 60),\n",
    "        (\"Silla gaming DXRacer\", 350, 40),\n",
    "        (\"Teclado gaming Razer\", 120, 90),\n",
    "        (\"Auriculares gaming SteelSeries\", 130, 80)\n",
    "    ]\n",
    "}"
   ]
  },
  {
   "cell_type": "markdown",
   "id": "0d747eb8-9320-4cf2-bc07-6d2818a2538b",
   "metadata": {},
   "source": [
    "2. Crea una función que calcule el valor total de inventario por categoría (precio por cantidad para cada producto)."
   ]
  },
  {
   "cell_type": "code",
   "execution_count": 107,
   "id": "9d981a9d-35b8-4310-a3f6-910ec044accd",
   "metadata": {},
   "outputs": [
    {
     "name": "stdout",
     "output_type": "stream",
     "text": [
      "{'Componentes': 110500, 'Periféricos': 59300, 'Accesorios': 30000, 'Gaming': 65140}\n"
     ]
    }
   ],
   "source": [
    "# Punto 2 - Creamos la función para calcular el valor total de cada categoría y que esta sea devuelta en un diccionario:\n",
    "    # Devolver el resultado en un diccionario puede ser mejor idea que hacer print de cada resultado, especialmente cuando hay muchas categorías.\n",
    "\n",
    "def valor_total(inventario): # El parámetro será el diccionario correspondiente al inventario.\n",
    "    valores_totales = {}\n",
    "    for k, v in inventario.items(): # k: categoría y v: lista de tuplas, por lo que en esta última hay que desglosarla más con otro bucle definido.\n",
    "        total_categoria = 0\n",
    "        for i, p, q in v: # i: producto, p: precio y q: de v. Mediante esta sintaxis evitamos crear otro bucle solo para desglosar las tuplas.\n",
    "           total_categoria += p * q \n",
    "        valores_totales[k] = total_categoria\n",
    "    return valores_totales\n",
    "    \n",
    "print(valor_total(inventario))"
   ]
  },
  {
   "cell_type": "markdown",
   "id": "d9c33b3f-37a2-4499-8232-abd2ba962814",
   "metadata": {},
   "source": [
    "3. Muestra la categoría que tiene el valor total más alto en inventario."
   ]
  },
  {
   "cell_type": "code",
   "execution_count": 110,
   "id": "fcab8435-9011-4106-bd67-bd1516efd84f",
   "metadata": {},
   "outputs": [
    {
     "name": "stdout",
     "output_type": "stream",
     "text": [
      "La categoría con el valor total más elevado es: Componentes, 110500€\n"
     ]
    }
   ],
   "source": [
    "# Punto 3 - Para ello, tenemos el diccionario creado anteriormente al aplicar la función creada:\n",
    "valores_totales = valor_total(inventario)\n",
    "\n",
    "cat_max = max(valores_totales, key=valores_totales.get) # Empleamos el parámetro key y el método .get para que coja los valores y no las claves.\n",
    "valor_max = valores_totales[cat_max] # Aquí obtenemos el valor total máximo.\n",
    "\n",
    "print(\"La categoría con el valor total más elevado es: \" + str(cat_max) + \", \" + str(valor_max) + \"€\") # En este caso trabajamos con euros."
   ]
  },
  {
   "cell_type": "markdown",
   "id": "c3bad42c-debf-4d00-87ad-3a4d068bb186",
   "metadata": {},
   "source": [
    "4. Añade una opción para actualizar el stock de un producto en una categoría específica."
   ]
  },
  {
   "cell_type": "code",
   "execution_count": 113,
   "id": "ddad32d9-39b4-44f5-ac96-53d25c5f2035",
   "metadata": {},
   "outputs": [
    {
     "name": "stdout",
     "output_type": "stream",
     "text": [
      "El stock de Tarjeta gráfica Nvidia RTX 3080, perteneciente a la categoría de Componentes, ha sido actualizado a 100 unidades\n",
      "{'Componentes': [('Placa base ASUS', 150, 100), ('Procesador Intel i9', 550, 50), ('Tarjeta gráfica Nvidia RTX 3080', 1200, 100), ('Memoria RAM Corsair 16GB', 70, 200), ('Disco duro SSD 1TB', 120, 150)], 'Periféricos': [('Teclado mecánico RGB', 80, 120), ('Ratón gaming Logitech', 50, 200), ('Auriculares HyperX', 90, 180), ('Monitor 24 pulgadas', 200, 80), ('Webcam 1080p', 50, 150)], 'Accesorios': [('Cable HDMI 2.0', 15, 300), ('Fuente de alimentación 750W', 100, 100), ('Disco duro externo 2TB', 150, 70), ('Cable USB-C a USB-A', 10, 500)], 'Gaming': [('Consola PlayStation 5', 499, 60), ('Silla gaming DXRacer', 350, 40), ('Teclado gaming Razer', 120, 90), ('Auriculares gaming SteelSeries', 130, 80)]}\n"
     ]
    }
   ],
   "source": [
    "# Punto 4 - En este caso crearemos una función donde se pueda introducir como parámetro el stock actualizado y el producto del que se trata\n",
    "# Además de indicar el diccionario del inventario y la categoría.\n",
    "def actualizar_stock(stock, producto, categoria, inventario):\n",
    "    if categoria in inventario: # Comprobación de que la categoría existe.\n",
    "        productos = inventario[categoria] # Creamos una referencia a la lista de tuplas en cuestión para mayor claridad.\n",
    "        for ind, (i, p, q) in enumerate(productos): # Gracias al enumerate podremos desglosar la tupla y mantener el índice más adelante.\n",
    "            if i == producto: # Comprobación de que el producto existe en la categoría indicada.\n",
    "                productos[ind] = (i, p, stock) # Al ser inmutables las tuplas, debemos reemplazarla por una nueva.\n",
    "                print(\"El stock de \" + str(producto) + \", perteneciente a la categoría de \" + str(categoria) + \", ha sido actualizado a \" + str(stock) +\n",
    "                      \" unidades\") \n",
    "                return inventario\n",
    "        return \"El producto no se encuentra en la categoria indicada\" # Resultado cuando no se ha aplicado el return en el bucle anterior.\n",
    "    else:\n",
    "        return \"La categoría no se encuentra en el inventario\"\n",
    "\n",
    "# Aplicamos un ejemplo:\n",
    "print(actualizar_stock(100, \"Tarjeta gráfica Nvidia RTX 3080\", \"Componentes\", inventario))"
   ]
  }
 ],
 "metadata": {
  "kernelspec": {
   "display_name": "Python 3 (ipykernel)",
   "language": "python",
   "name": "python3"
  },
  "language_info": {
   "codemirror_mode": {
    "name": "ipython",
    "version": 3
   },
   "file_extension": ".py",
   "mimetype": "text/x-python",
   "name": "python",
   "nbconvert_exporter": "python",
   "pygments_lexer": "ipython3",
   "version": "3.12.2"
  }
 },
 "nbformat": 4,
 "nbformat_minor": 5
}
